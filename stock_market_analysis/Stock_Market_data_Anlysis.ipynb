{
 "cells": [
  {
   "cell_type": "markdown",
   "id": "3d9a8612",
   "metadata": {},
   "source": [
    "### Quantitative Analysis of Stock Market using Python\n"
   ]
  },
  {
   "cell_type": "code",
   "execution_count": 9,
   "id": "416e29e9",
   "metadata": {},
   "outputs": [],
   "source": [
    "import pandas as pd\n",
    "import plotly.express as px\n",
    "import plotly.graph_objects as go\n",
    "from plotly.subplots import make_subplots\n",
    "import plotly.io as pio\n",
    "pio.templates.default = \"plotly_white\"\n"
   ]
  },
  {
   "cell_type": "code",
   "execution_count": 8,
   "id": "7a20f981",
   "metadata": {},
   "outputs": [],
   "source": [
    "stocks = pd.read_csv('stocks.csv')"
   ]
  },
  {
   "cell_type": "code",
   "execution_count": 10,
   "id": "deaa86c5",
   "metadata": {},
   "outputs": [
    {
     "data": {
      "text/html": [
       "<div>\n",
       "<style scoped>\n",
       "    .dataframe tbody tr th:only-of-type {\n",
       "        vertical-align: middle;\n",
       "    }\n",
       "\n",
       "    .dataframe tbody tr th {\n",
       "        vertical-align: top;\n",
       "    }\n",
       "\n",
       "    .dataframe thead th {\n",
       "        text-align: right;\n",
       "    }\n",
       "</style>\n",
       "<table border=\"1\" class=\"dataframe\">\n",
       "  <thead>\n",
       "    <tr style=\"text-align: right;\">\n",
       "      <th></th>\n",
       "      <th>Ticker</th>\n",
       "      <th>Date</th>\n",
       "      <th>Open</th>\n",
       "      <th>High</th>\n",
       "      <th>Low</th>\n",
       "      <th>Close</th>\n",
       "      <th>Adj Close</th>\n",
       "      <th>Volume</th>\n",
       "    </tr>\n",
       "  </thead>\n",
       "  <tbody>\n",
       "    <tr>\n",
       "      <th>0</th>\n",
       "      <td>AAPL</td>\n",
       "      <td>2023-02-07</td>\n",
       "      <td>150.639999</td>\n",
       "      <td>155.229996</td>\n",
       "      <td>150.639999</td>\n",
       "      <td>154.649994</td>\n",
       "      <td>154.414230</td>\n",
       "      <td>83322600</td>\n",
       "    </tr>\n",
       "    <tr>\n",
       "      <th>1</th>\n",
       "      <td>AAPL</td>\n",
       "      <td>2023-02-08</td>\n",
       "      <td>153.880005</td>\n",
       "      <td>154.580002</td>\n",
       "      <td>151.169998</td>\n",
       "      <td>151.919998</td>\n",
       "      <td>151.688400</td>\n",
       "      <td>64120100</td>\n",
       "    </tr>\n",
       "    <tr>\n",
       "      <th>2</th>\n",
       "      <td>AAPL</td>\n",
       "      <td>2023-02-09</td>\n",
       "      <td>153.779999</td>\n",
       "      <td>154.330002</td>\n",
       "      <td>150.419998</td>\n",
       "      <td>150.869995</td>\n",
       "      <td>150.639999</td>\n",
       "      <td>56007100</td>\n",
       "    </tr>\n",
       "  </tbody>\n",
       "</table>\n",
       "</div>"
      ],
      "text/plain": [
       "  Ticker        Date        Open        High         Low       Close  \\\n",
       "0   AAPL  2023-02-07  150.639999  155.229996  150.639999  154.649994   \n",
       "1   AAPL  2023-02-08  153.880005  154.580002  151.169998  151.919998   \n",
       "2   AAPL  2023-02-09  153.779999  154.330002  150.419998  150.869995   \n",
       "\n",
       "    Adj Close    Volume  \n",
       "0  154.414230  83322600  \n",
       "1  151.688400  64120100  \n",
       "2  150.639999  56007100  "
      ]
     },
     "execution_count": 10,
     "metadata": {},
     "output_type": "execute_result"
    }
   ],
   "source": [
    "stocks.head(3)"
   ]
  },
  {
   "cell_type": "code",
   "execution_count": 11,
   "id": "1d50cf9c",
   "metadata": {},
   "outputs": [
    {
     "data": {
      "text/plain": [
       "Index(['Ticker', 'Date', 'Open', 'High', 'Low', 'Close', 'Adj Close',\n",
       "       'Volume'],\n",
       "      dtype='object')"
      ]
     },
     "execution_count": 11,
     "metadata": {},
     "output_type": "execute_result"
    }
   ],
   "source": [
    "stocks.columns"
   ]
  },
  {
   "cell_type": "code",
   "execution_count": 12,
   "id": "7d4feb3f",
   "metadata": {},
   "outputs": [
    {
     "name": "stdout",
     "output_type": "stream",
     "text": [
      "<class 'pandas.core.frame.DataFrame'>\n",
      "RangeIndex: 248 entries, 0 to 247\n",
      "Data columns (total 8 columns):\n",
      " #   Column     Non-Null Count  Dtype  \n",
      "---  ------     --------------  -----  \n",
      " 0   Ticker     248 non-null    object \n",
      " 1   Date       248 non-null    object \n",
      " 2   Open       248 non-null    float64\n",
      " 3   High       248 non-null    float64\n",
      " 4   Low        248 non-null    float64\n",
      " 5   Close      248 non-null    float64\n",
      " 6   Adj Close  248 non-null    float64\n",
      " 7   Volume     248 non-null    int64  \n",
      "dtypes: float64(5), int64(1), object(2)\n",
      "memory usage: 15.6+ KB\n"
     ]
    }
   ],
   "source": [
    "stocks.info()"
   ]
  },
  {
   "cell_type": "code",
   "execution_count": 13,
   "id": "d0944705",
   "metadata": {},
   "outputs": [
    {
     "data": {
      "text/html": [
       "<div>\n",
       "<style scoped>\n",
       "    .dataframe tbody tr th:only-of-type {\n",
       "        vertical-align: middle;\n",
       "    }\n",
       "\n",
       "    .dataframe tbody tr th {\n",
       "        vertical-align: top;\n",
       "    }\n",
       "\n",
       "    .dataframe thead th {\n",
       "        text-align: right;\n",
       "    }\n",
       "</style>\n",
       "<table border=\"1\" class=\"dataframe\">\n",
       "  <thead>\n",
       "    <tr style=\"text-align: right;\">\n",
       "      <th></th>\n",
       "      <th>Open</th>\n",
       "      <th>High</th>\n",
       "      <th>Low</th>\n",
       "      <th>Close</th>\n",
       "      <th>Adj Close</th>\n",
       "      <th>Volume</th>\n",
       "    </tr>\n",
       "  </thead>\n",
       "  <tbody>\n",
       "    <tr>\n",
       "      <th>count</th>\n",
       "      <td>248.000000</td>\n",
       "      <td>248.000000</td>\n",
       "      <td>248.000000</td>\n",
       "      <td>248.000000</td>\n",
       "      <td>248.000000</td>\n",
       "      <td>2.480000e+02</td>\n",
       "    </tr>\n",
       "    <tr>\n",
       "      <th>mean</th>\n",
       "      <td>215.252093</td>\n",
       "      <td>217.919662</td>\n",
       "      <td>212.697452</td>\n",
       "      <td>215.381674</td>\n",
       "      <td>215.362697</td>\n",
       "      <td>3.208210e+07</td>\n",
       "    </tr>\n",
       "    <tr>\n",
       "      <th>std</th>\n",
       "      <td>91.691315</td>\n",
       "      <td>92.863023</td>\n",
       "      <td>90.147881</td>\n",
       "      <td>91.461989</td>\n",
       "      <td>91.454750</td>\n",
       "      <td>2.233590e+07</td>\n",
       "    </tr>\n",
       "    <tr>\n",
       "      <th>min</th>\n",
       "      <td>89.540001</td>\n",
       "      <td>90.129997</td>\n",
       "      <td>88.860001</td>\n",
       "      <td>89.349998</td>\n",
       "      <td>89.349998</td>\n",
       "      <td>2.657900e+06</td>\n",
       "    </tr>\n",
       "    <tr>\n",
       "      <th>25%</th>\n",
       "      <td>135.235004</td>\n",
       "      <td>137.440004</td>\n",
       "      <td>134.822495</td>\n",
       "      <td>136.347498</td>\n",
       "      <td>136.347498</td>\n",
       "      <td>1.714180e+07</td>\n",
       "    </tr>\n",
       "    <tr>\n",
       "      <th>50%</th>\n",
       "      <td>208.764999</td>\n",
       "      <td>212.614998</td>\n",
       "      <td>208.184998</td>\n",
       "      <td>209.920006</td>\n",
       "      <td>209.920006</td>\n",
       "      <td>2.734000e+07</td>\n",
       "    </tr>\n",
       "    <tr>\n",
       "      <th>75%</th>\n",
       "      <td>304.177505</td>\n",
       "      <td>307.565002</td>\n",
       "      <td>295.437500</td>\n",
       "      <td>303.942505</td>\n",
       "      <td>303.942505</td>\n",
       "      <td>4.771772e+07</td>\n",
       "    </tr>\n",
       "    <tr>\n",
       "      <th>max</th>\n",
       "      <td>372.410004</td>\n",
       "      <td>373.829987</td>\n",
       "      <td>361.739990</td>\n",
       "      <td>366.829987</td>\n",
       "      <td>366.829987</td>\n",
       "      <td>1.133164e+08</td>\n",
       "    </tr>\n",
       "  </tbody>\n",
       "</table>\n",
       "</div>"
      ],
      "text/plain": [
       "             Open        High         Low       Close   Adj Close  \\\n",
       "count  248.000000  248.000000  248.000000  248.000000  248.000000   \n",
       "mean   215.252093  217.919662  212.697452  215.381674  215.362697   \n",
       "std     91.691315   92.863023   90.147881   91.461989   91.454750   \n",
       "min     89.540001   90.129997   88.860001   89.349998   89.349998   \n",
       "25%    135.235004  137.440004  134.822495  136.347498  136.347498   \n",
       "50%    208.764999  212.614998  208.184998  209.920006  209.920006   \n",
       "75%    304.177505  307.565002  295.437500  303.942505  303.942505   \n",
       "max    372.410004  373.829987  361.739990  366.829987  366.829987   \n",
       "\n",
       "             Volume  \n",
       "count  2.480000e+02  \n",
       "mean   3.208210e+07  \n",
       "std    2.233590e+07  \n",
       "min    2.657900e+06  \n",
       "25%    1.714180e+07  \n",
       "50%    2.734000e+07  \n",
       "75%    4.771772e+07  \n",
       "max    1.133164e+08  "
      ]
     },
     "execution_count": 13,
     "metadata": {},
     "output_type": "execute_result"
    }
   ],
   "source": [
    "stocks.describe()"
   ]
  },
  {
   "cell_type": "markdown",
   "id": "9bc7726e",
   "metadata": {},
   "source": [
    "To perform a quantitative analysis, we can explore various statistical concepts like descriptive statistics, time series analysis, correlation analysis, and more. Here are some potential analyses we can perform:\n",
    "\n",
    "**Descriptive Statistics**: Summary statistics (mean, median, standard deviation, etc.) for each stock.\n",
    "\n",
    "**Time Series Analysis**: Trends and patterns over time, especially for closing prices.\n",
    "\n",
    "**Volatility Analysis**: How much the stock price fluctuates over a period.\n",
    "\n",
    "**Correlation Analysis**: How stock prices of different companies are related to each other.\n",
    "\n",
    "**Comparative Analysis**: Comparing the performance of different stocks.\n",
    "\n",
    "Risk-Return Trade-off Analysis: Analyzing the balance between the potential risks and rewards of different stocks, aiding in portfolio management."
   ]
  },
  {
   "cell_type": "markdown",
   "id": "e5a2693c",
   "metadata": {},
   "source": [
    "#### Descriptive Statistics"
   ]
  },
  {
   "cell_type": "code",
   "execution_count": 14,
   "id": "8c34ede8",
   "metadata": {},
   "outputs": [],
   "source": [
    "descriptive_stat=stocks.groupby('Ticker')['Close'].describe()"
   ]
  },
  {
   "cell_type": "code",
   "execution_count": 15,
   "id": "b9d94017",
   "metadata": {},
   "outputs": [
    {
     "data": {
      "text/html": [
       "<div>\n",
       "<style scoped>\n",
       "    .dataframe tbody tr th:only-of-type {\n",
       "        vertical-align: middle;\n",
       "    }\n",
       "\n",
       "    .dataframe tbody tr th {\n",
       "        vertical-align: top;\n",
       "    }\n",
       "\n",
       "    .dataframe thead th {\n",
       "        text-align: right;\n",
       "    }\n",
       "</style>\n",
       "<table border=\"1\" class=\"dataframe\">\n",
       "  <thead>\n",
       "    <tr style=\"text-align: right;\">\n",
       "      <th></th>\n",
       "      <th>count</th>\n",
       "      <th>mean</th>\n",
       "      <th>std</th>\n",
       "      <th>min</th>\n",
       "      <th>25%</th>\n",
       "      <th>50%</th>\n",
       "      <th>75%</th>\n",
       "      <th>max</th>\n",
       "    </tr>\n",
       "    <tr>\n",
       "      <th>Ticker</th>\n",
       "      <th></th>\n",
       "      <th></th>\n",
       "      <th></th>\n",
       "      <th></th>\n",
       "      <th></th>\n",
       "      <th></th>\n",
       "      <th></th>\n",
       "      <th></th>\n",
       "    </tr>\n",
       "  </thead>\n",
       "  <tbody>\n",
       "    <tr>\n",
       "      <th>AAPL</th>\n",
       "      <td>62.0</td>\n",
       "      <td>158.240645</td>\n",
       "      <td>7.360485</td>\n",
       "      <td>145.309998</td>\n",
       "      <td>152.077499</td>\n",
       "      <td>158.055000</td>\n",
       "      <td>165.162506</td>\n",
       "      <td>173.570007</td>\n",
       "    </tr>\n",
       "    <tr>\n",
       "      <th>GOOG</th>\n",
       "      <td>62.0</td>\n",
       "      <td>100.631532</td>\n",
       "      <td>6.279464</td>\n",
       "      <td>89.349998</td>\n",
       "      <td>94.702501</td>\n",
       "      <td>102.759998</td>\n",
       "      <td>105.962503</td>\n",
       "      <td>109.459999</td>\n",
       "    </tr>\n",
       "    <tr>\n",
       "      <th>MSFT</th>\n",
       "      <td>62.0</td>\n",
       "      <td>275.039839</td>\n",
       "      <td>17.676231</td>\n",
       "      <td>246.270004</td>\n",
       "      <td>258.742500</td>\n",
       "      <td>275.810013</td>\n",
       "      <td>287.217506</td>\n",
       "      <td>310.649994</td>\n",
       "    </tr>\n",
       "    <tr>\n",
       "      <th>NFLX</th>\n",
       "      <td>62.0</td>\n",
       "      <td>327.614677</td>\n",
       "      <td>18.554419</td>\n",
       "      <td>292.760010</td>\n",
       "      <td>315.672493</td>\n",
       "      <td>325.600006</td>\n",
       "      <td>338.899994</td>\n",
       "      <td>366.829987</td>\n",
       "    </tr>\n",
       "  </tbody>\n",
       "</table>\n",
       "</div>"
      ],
      "text/plain": [
       "        count        mean        std         min         25%         50%  \\\n",
       "Ticker                                                                     \n",
       "AAPL     62.0  158.240645   7.360485  145.309998  152.077499  158.055000   \n",
       "GOOG     62.0  100.631532   6.279464   89.349998   94.702501  102.759998   \n",
       "MSFT     62.0  275.039839  17.676231  246.270004  258.742500  275.810013   \n",
       "NFLX     62.0  327.614677  18.554419  292.760010  315.672493  325.600006   \n",
       "\n",
       "               75%         max  \n",
       "Ticker                          \n",
       "AAPL    165.162506  173.570007  \n",
       "GOOG    105.962503  109.459999  \n",
       "MSFT    287.217506  310.649994  \n",
       "NFLX    338.899994  366.829987  "
      ]
     },
     "execution_count": 15,
     "metadata": {},
     "output_type": "execute_result"
    }
   ],
   "source": [
    "descriptive_stat"
   ]
  },
  {
   "cell_type": "code",
   "execution_count": 29,
   "id": "60d3694e",
   "metadata": {},
   "outputs": [
    {
     "data": {
      "text/plain": [
       "Ticker\n",
       "AAPL     9887.370026\n",
       "GOOG     6311.135994\n",
       "MSFT    17221.390045\n",
       "NFLX    20624.180054\n",
       "Name: High, dtype: float64"
      ]
     },
     "execution_count": 29,
     "metadata": {},
     "output_type": "execute_result"
    }
   ],
   "source": [
    "stocks.groupby('Ticker')['High'].sum()"
   ]
  },
  {
   "cell_type": "code",
   "execution_count": 28,
   "id": "703299a3",
   "metadata": {},
   "outputs": [
    {
     "data": {
      "text/plain": [
       "Ticker\n",
       "AAPL     9713.580002\n",
       "GOOG     6154.298004\n",
       "MSFT    16865.719955\n",
       "NFLX    20015.370026\n",
       "Name: Low, dtype: float64"
      ]
     },
     "execution_count": 28,
     "metadata": {},
     "output_type": "execute_result"
    }
   ],
   "source": [
    "stocks.groupby('Ticker')['Low'].sum()"
   ]
  },
  {
   "cell_type": "markdown",
   "id": "114b2ae4",
   "metadata": {},
   "source": [
    "- Here, Apple and Google Statistics are same but mean closing price is 100.63 and std 6.28, indicating Less Variability in closing Price compare to Apple.\n",
    "\n",
    "- And Microsoft has higher closing price, higher std compare to AAPL & GOOG and Netflix has its descent prices."
   ]
  },
  {
   "cell_type": "markdown",
   "id": "4bb9a0e1",
   "metadata": {},
   "source": [
    "#### Time Series Analysis"
   ]
  },
  {
   "cell_type": "code",
   "execution_count": 30,
   "id": "5319a130",
   "metadata": {},
   "outputs": [],
   "source": [
    "stocks['Date'] = pd.to_datetime(stocks['Date'])\n"
   ]
  },
  {
   "cell_type": "code",
   "execution_count": 31,
   "id": "6a341c5a",
   "metadata": {},
   "outputs": [],
   "source": [
    "pivot_table = stocks.pivot(index='Date',columns='Ticker', values='Close')"
   ]
  },
  {
   "cell_type": "code",
   "execution_count": 32,
   "id": "d00bef01",
   "metadata": {},
   "outputs": [
    {
     "data": {
      "text/html": [
       "<div>\n",
       "<style scoped>\n",
       "    .dataframe tbody tr th:only-of-type {\n",
       "        vertical-align: middle;\n",
       "    }\n",
       "\n",
       "    .dataframe tbody tr th {\n",
       "        vertical-align: top;\n",
       "    }\n",
       "\n",
       "    .dataframe thead th {\n",
       "        text-align: right;\n",
       "    }\n",
       "</style>\n",
       "<table border=\"1\" class=\"dataframe\">\n",
       "  <thead>\n",
       "    <tr style=\"text-align: right;\">\n",
       "      <th>Ticker</th>\n",
       "      <th>AAPL</th>\n",
       "      <th>GOOG</th>\n",
       "      <th>MSFT</th>\n",
       "      <th>NFLX</th>\n",
       "    </tr>\n",
       "    <tr>\n",
       "      <th>Date</th>\n",
       "      <th></th>\n",
       "      <th></th>\n",
       "      <th></th>\n",
       "      <th></th>\n",
       "    </tr>\n",
       "  </thead>\n",
       "  <tbody>\n",
       "    <tr>\n",
       "      <th>2023-02-07</th>\n",
       "      <td>154.649994</td>\n",
       "      <td>108.040001</td>\n",
       "      <td>267.559998</td>\n",
       "      <td>362.950012</td>\n",
       "    </tr>\n",
       "    <tr>\n",
       "      <th>2023-02-08</th>\n",
       "      <td>151.919998</td>\n",
       "      <td>100.000000</td>\n",
       "      <td>266.730011</td>\n",
       "      <td>366.829987</td>\n",
       "    </tr>\n",
       "    <tr>\n",
       "      <th>2023-02-09</th>\n",
       "      <td>150.869995</td>\n",
       "      <td>95.459999</td>\n",
       "      <td>263.619995</td>\n",
       "      <td>362.500000</td>\n",
       "    </tr>\n",
       "    <tr>\n",
       "      <th>2023-02-10</th>\n",
       "      <td>151.009995</td>\n",
       "      <td>94.860001</td>\n",
       "      <td>263.100006</td>\n",
       "      <td>347.359985</td>\n",
       "    </tr>\n",
       "    <tr>\n",
       "      <th>2023-02-13</th>\n",
       "      <td>153.850006</td>\n",
       "      <td>95.000000</td>\n",
       "      <td>271.320007</td>\n",
       "      <td>358.570007</td>\n",
       "    </tr>\n",
       "    <tr>\n",
       "      <th>...</th>\n",
       "      <td>...</td>\n",
       "      <td>...</td>\n",
       "      <td>...</td>\n",
       "      <td>...</td>\n",
       "    </tr>\n",
       "    <tr>\n",
       "      <th>2023-05-01</th>\n",
       "      <td>169.589996</td>\n",
       "      <td>107.709999</td>\n",
       "      <td>305.559998</td>\n",
       "      <td>324.119995</td>\n",
       "    </tr>\n",
       "    <tr>\n",
       "      <th>2023-05-02</th>\n",
       "      <td>168.539993</td>\n",
       "      <td>105.980003</td>\n",
       "      <td>305.410004</td>\n",
       "      <td>317.549988</td>\n",
       "    </tr>\n",
       "    <tr>\n",
       "      <th>2023-05-03</th>\n",
       "      <td>167.449997</td>\n",
       "      <td>106.120003</td>\n",
       "      <td>304.399994</td>\n",
       "      <td>319.299988</td>\n",
       "    </tr>\n",
       "    <tr>\n",
       "      <th>2023-05-04</th>\n",
       "      <td>165.789993</td>\n",
       "      <td>105.209999</td>\n",
       "      <td>305.410004</td>\n",
       "      <td>320.779999</td>\n",
       "    </tr>\n",
       "    <tr>\n",
       "      <th>2023-05-05</th>\n",
       "      <td>173.570007</td>\n",
       "      <td>106.214996</td>\n",
       "      <td>310.649994</td>\n",
       "      <td>322.760010</td>\n",
       "    </tr>\n",
       "  </tbody>\n",
       "</table>\n",
       "<p>62 rows × 4 columns</p>\n",
       "</div>"
      ],
      "text/plain": [
       "Ticker            AAPL        GOOG        MSFT        NFLX\n",
       "Date                                                      \n",
       "2023-02-07  154.649994  108.040001  267.559998  362.950012\n",
       "2023-02-08  151.919998  100.000000  266.730011  366.829987\n",
       "2023-02-09  150.869995   95.459999  263.619995  362.500000\n",
       "2023-02-10  151.009995   94.860001  263.100006  347.359985\n",
       "2023-02-13  153.850006   95.000000  271.320007  358.570007\n",
       "...                ...         ...         ...         ...\n",
       "2023-05-01  169.589996  107.709999  305.559998  324.119995\n",
       "2023-05-02  168.539993  105.980003  305.410004  317.549988\n",
       "2023-05-03  167.449997  106.120003  304.399994  319.299988\n",
       "2023-05-04  165.789993  105.209999  305.410004  320.779999\n",
       "2023-05-05  173.570007  106.214996  310.649994  322.760010\n",
       "\n",
       "[62 rows x 4 columns]"
      ]
     },
     "execution_count": 32,
     "metadata": {},
     "output_type": "execute_result"
    }
   ],
   "source": [
    "pivot_table"
   ]
  },
  {
   "cell_type": "code",
   "execution_count": 33,
   "id": "b4ee2b78",
   "metadata": {},
   "outputs": [],
   "source": [
    "import seaborn as sns"
   ]
  },
  {
   "cell_type": "markdown",
   "id": "0cde0da8",
   "metadata": {},
   "source": [
    "A series graph using Seaborn"
   ]
  },
  {
   "cell_type": "code",
   "execution_count": 44,
   "id": "c3919d9c",
   "metadata": {},
   "outputs": [
    {
     "data": {
      "image/png": "[encoded data removed]",
      "text/plain": [
       "<Figure size 720x432 with 1 Axes>"
      ]
     },
     "metadata": {},
     "output_type": "display_data"
    }
   ],
   "source": [
    "# Set the style for seaborn\n",
    "import matplotlib.pyplot as plt\n",
    "sns.set(style=\"whitegrid\")\n",
    "\n",
    "# Create a figure and axis\n",
    "fig, ax = plt.subplots(figsize=(10, 6))\n",
    "\n",
    "# Plot each column as a line\n",
    "for column in pivot_table.columns:\n",
    "    sns.lineplot(x=pivot_table.index, y=pivot_table[column], label=column, ax=ax)\n",
    "\n",
    "# Set labels and title\n",
    "ax.set(xlabel='Date', ylabel='Closing Price', title='Time Series of Closing Prices')\n",
    "\n",
    "# Add legend\n",
    "ax.legend(title='Ticker', loc='upper right')\n",
    "\n",
    "plt.legend(bbox_to_anchor=(1.01,1.01))\n",
    "\n",
    "# Saving image\n",
    "plt.savefig('Time Series of stocks.webp',bbox_inches='tight')\n",
    "plt.show()\n"
   ]
  },
  {
   "cell_type": "markdown",
   "id": "e018c6bb",
   "metadata": {},
   "source": [
    "The above plot displays the time series of the closing prices for each stock (AAPL, GOOG, MSFT, NFLX) over the observed period. Here are some key observations:\n",
    "\n",
    "Trend: Each stock shows its unique trend over time. For instance, AAPL and MSFT exhibit a general upward trend in this period.\n",
    "\n",
    "\n",
    "Volatility: There is noticeable volatility in the stock prices. For example, NFLX shows more pronounced fluctuations compared to others.\n",
    "\n",
    "\n",
    "Comparative Performance: When comparing the stocks, MSFT and NFLX generally trade at higher price levels than AAPL and GOOG in this datase"
   ]
  },
  {
   "cell_type": "markdown",
   "id": "d2b51256",
   "metadata": {},
   "source": [
    "#### Volatility Analysis"
   ]
  },
  {
   "cell_type": "code",
   "execution_count": 45,
   "id": "91924468",
   "metadata": {},
   "outputs": [
    {
     "data": {
      "text/plain": [
       "Ticker\n",
       "NFLX    18.554419\n",
       "MSFT    17.676231\n",
       "AAPL     7.360485\n",
       "GOOG     6.279464\n",
       "dtype: float64"
      ]
     },
     "execution_count": 45,
     "metadata": {},
     "output_type": "execute_result"
    }
   ],
   "source": [
    "Volatility = pivot_table.std().sort_values(ascending=False)\n",
    "Volatility"
   ]
  },
  {
   "cell_type": "code",
   "execution_count": 57,
   "id": "9af6a41b",
   "metadata": {},
   "outputs": [
    {
     "data": {
      "image/png": "[encoded data removed]",
      "text/plain": [
       "<Figure size 720x576 with 1 Axes>"
      ]
     },
     "metadata": {},
     "output_type": "display_data"
    }
   ],
   "source": [
    "plt.figure(figsize=(10,8))\n",
    "sns.barplot(data=Volatility)\n",
    "plt.title('Volatitlity Of Closing Prices (std)')\n",
    "plt.xlabel('Ticker')\n",
    "plt.ylabel('STD')\n",
    "plt.show()"
   ]
  },
  {
   "cell_type": "code",
   "execution_count": 52,
   "id": "1a01d3bb",
   "metadata": {},
   "outputs": [
    {
     "data": {
      "text/plain": [
       "pandas.core.series.Series"
      ]
     },
     "execution_count": 52,
     "metadata": {},
     "output_type": "execute_result"
    }
   ],
   "source": [
    "type(Volatility)"
   ]
  },
  {
   "cell_type": "markdown",
   "id": "0044d857",
   "metadata": {},
   "source": [
    "The bar chart and the accompanying data show the volatility (measured as standard deviation) of the closing prices for each stock. Here’s how they rank in terms of volatility:\n",
    "\n",
    "NFLX: Highest volatility with a standard deviation of approximately 18.55.\n",
    "\n",
    "MSFT: Next highest, with a standard deviation of around 17.68.\n",
    "\n",
    "AAPL: Lower volatility compared to NFLX and MSFT, with a standard deviation of about 7.36.\n",
    "\n",
    "GOOG: The least volatile in this set, with a standard deviation of approximately 6.28.\n",
    "\n",
    "It indicates that NFLX and MSFT stocks were more prone to price fluctuations during this period compared to AAPL and GOOG."
   ]
  },
  {
   "cell_type": "markdown",
   "id": "d6fe94d3",
   "metadata": {},
   "source": [
    "#### Correlation Analysis"
   ]
  },
  {
   "cell_type": "code",
   "execution_count": 59,
   "id": "b6ad2b84",
   "metadata": {},
   "outputs": [
    {
     "data": {
      "text/html": [
       "<div>\n",
       "<style scoped>\n",
       "    .dataframe tbody tr th:only-of-type {\n",
       "        vertical-align: middle;\n",
       "    }\n",
       "\n",
       "    .dataframe tbody tr th {\n",
       "        vertical-align: top;\n",
       "    }\n",
       "\n",
       "    .dataframe thead th {\n",
       "        text-align: right;\n",
       "    }\n",
       "</style>\n",
       "<table border=\"1\" class=\"dataframe\">\n",
       "  <thead>\n",
       "    <tr style=\"text-align: right;\">\n",
       "      <th>Ticker</th>\n",
       "      <th>AAPL</th>\n",
       "      <th>GOOG</th>\n",
       "      <th>MSFT</th>\n",
       "      <th>NFLX</th>\n",
       "    </tr>\n",
       "    <tr>\n",
       "      <th>Ticker</th>\n",
       "      <th></th>\n",
       "      <th></th>\n",
       "      <th></th>\n",
       "      <th></th>\n",
       "    </tr>\n",
       "  </thead>\n",
       "  <tbody>\n",
       "    <tr>\n",
       "      <th>AAPL</th>\n",
       "      <td>1.000000</td>\n",
       "      <td>0.901662</td>\n",
       "      <td>0.953037</td>\n",
       "      <td>0.154418</td>\n",
       "    </tr>\n",
       "    <tr>\n",
       "      <th>GOOG</th>\n",
       "      <td>0.901662</td>\n",
       "      <td>1.000000</td>\n",
       "      <td>0.884527</td>\n",
       "      <td>0.201046</td>\n",
       "    </tr>\n",
       "    <tr>\n",
       "      <th>MSFT</th>\n",
       "      <td>0.953037</td>\n",
       "      <td>0.884527</td>\n",
       "      <td>1.000000</td>\n",
       "      <td>0.191273</td>\n",
       "    </tr>\n",
       "    <tr>\n",
       "      <th>NFLX</th>\n",
       "      <td>0.154418</td>\n",
       "      <td>0.201046</td>\n",
       "      <td>0.191273</td>\n",
       "      <td>1.000000</td>\n",
       "    </tr>\n",
       "  </tbody>\n",
       "</table>\n",
       "</div>"
      ],
      "text/plain": [
       "Ticker      AAPL      GOOG      MSFT      NFLX\n",
       "Ticker                                        \n",
       "AAPL    1.000000  0.901662  0.953037  0.154418\n",
       "GOOG    0.901662  1.000000  0.884527  0.201046\n",
       "MSFT    0.953037  0.884527  1.000000  0.191273\n",
       "NFLX    0.154418  0.201046  0.191273  1.000000"
      ]
     },
     "execution_count": 59,
     "metadata": {},
     "output_type": "execute_result"
    }
   ],
   "source": [
    "pivot_table.corr()"
   ]
  },
  {
   "cell_type": "code",
   "execution_count": 63,
   "id": "21e5f468",
   "metadata": {},
   "outputs": [
    {
     "data": {
      "image/png": "[encoded data removed]",
      "text/plain": [
       "<Figure size 576x432 with 2 Axes>"
      ]
     },
     "metadata": {},
     "output_type": "display_data"
    }
   ],
   "source": [
    "plt.figure(figsize=(8,6))\n",
    "sns.heatmap(pivot_table.corr(),cmap='tab20')\n",
    "plt.title('HeatMap of Stock prices')\n",
    "plt.show()"
   ]
  },
  {
   "cell_type": "markdown",
   "id": "712695b1",
   "metadata": {},
   "source": [
    "The heatmap above displays the correlation matrix of the closing prices of the four stocks (AAPL, GOOG, MSFT, NFLX). Here’s what the correlation coefficients suggest:\n",
    "\n",
    ">Values close to +1 indicate a strong positive correlation, meaning that as one stock’s price increases, the other tends to increase as well.\n",
    "\n",
    ">Values close to -1 indicate a strong negative correlation, where one stock’s price increase corresponds to a decrease in the other.\n",
    "\n",
    ">Values around 0 indicate a lack of correlation.\n",
    "\n",
    "From the heatmap, we can observe that there are varying degrees of positive correlations between the stock prices, with some pairs showing stronger correlations than others. For instance, AAPL and MSFT seem to have a relatively higher positive correlation."
   ]
  },
  {
   "cell_type": "markdown",
   "id": "bac25e90",
   "metadata": {},
   "source": [
    "#### Comparative Analysis"
   ]
  },
  {
   "cell_type": "code",
   "execution_count": 69,
   "id": "667f7342",
   "metadata": {},
   "outputs": [],
   "source": [
    "percentage_change = ((pivot_table.iloc[-1] - pivot_table.iloc[0]) / pivot_table.iloc[0]) * 100\n"
   ]
  },
  {
   "cell_type": "code",
   "execution_count": 70,
   "id": "c7ef7873",
   "metadata": {},
   "outputs": [
    {
     "data": {
      "text/plain": [
       "Ticker\n",
       "AAPL    12.234086\n",
       "GOOG    -1.689193\n",
       "MSFT    16.104798\n",
       "NFLX   -11.073151\n",
       "dtype: float64"
      ]
     },
     "execution_count": 70,
     "metadata": {},
     "output_type": "execute_result"
    }
   ],
   "source": [
    "percentage_change"
   ]
  },
  {
   "cell_type": "code",
   "execution_count": 73,
   "id": "78b8e8cd",
   "metadata": {},
   "outputs": [
    {
     "data": {
      "image/png": "[encoded data removed]",
      "text/plain": [
       "<Figure size 576x432 with 1 Axes>"
      ]
     },
     "metadata": {},
     "output_type": "display_data"
    }
   ],
   "source": [
    "plt.figure(figsize=(8,6))\n",
    "sns.barplot(percentage_change)\n",
    "plt.title('Percentage of Change in Closing Price')\n",
    "plt.xlabel('Ticker')\n",
    "plt.ylabel('Percentage_change')\n",
    "plt.show()"
   ]
  },
  {
   "cell_type": "markdown",
   "id": "78442d93",
   "metadata": {},
   "source": [
    "The bar chart and the accompanying data show the percentage change in the closing prices of the stocks from the start to the end of the observed period:\n",
    "\n",
    ">MSFT: The highest positive change of approximately 16.10%.\n",
    "\n",
    ">AAPL: Exhibited a positive change of approximately 12.23%. It indicates a solid performance, though slightly lower than MSFT’s.\n",
    "\n",
    ">GOOG: Showed a slight negative change of about -1.69%. It indicates a minor decline in its stock price over the observed period.\n",
    "\n",
    ">NFLX: Experienced the most significant negative change, at approximately -11.07%. It suggests a notable decrease in its stock price during the period."
   ]
  },
  {
   "cell_type": "code",
   "execution_count": 76,
   "id": "deffa68f",
   "metadata": {},
   "outputs": [],
   "source": [
    "#The pct_change() method returns a DataFrame with the percentage difference between the values for each row and, by default, the previous row.\n",
    "daily_return = pivot_table.pct_change().dropna()"
   ]
  },
  {
   "cell_type": "code",
   "execution_count": 77,
   "id": "1389b65b",
   "metadata": {},
   "outputs": [],
   "source": [
    "avg_daily_return = daily_return.mean()"
   ]
  },
  {
   "cell_type": "code",
   "execution_count": 78,
   "id": "823baef7",
   "metadata": {},
   "outputs": [],
   "source": [
    "risk = daily_return.std()"
   ]
  },
  {
   "cell_type": "code",
   "execution_count": 82,
   "id": "36b07178",
   "metadata": {},
   "outputs": [
    {
     "data": {
      "text/plain": [
       "<Axes: xlabel='Ticker'>"
      ]
     },
     "execution_count": 82,
     "metadata": {},
     "output_type": "execute_result"
    },
    {
     "data": {
      "image/png": "[encoded data removed]",
      "text/plain": [
       "<Figure size 432x288 with 1 Axes>"
      ]
     },
     "metadata": {},
     "output_type": "display_data"
    }
   ],
   "source": [
    "sns.scatterplot(avg_daily_return)"
   ]
  },
  {
   "cell_type": "markdown",
   "id": "c1c439b6",
   "metadata": {},
   "source": [
    "### Summary"
   ]
  },
  {
   "cell_type": "markdown",
   "id": "d815a696",
   "metadata": {},
   "source": [
    "This shows how Quantitative Analysis of the Stock Market Using Pandas,Here, We used unique Mathematical and Statistical Technique to draw an analysis from Stocks data. Also Visualization show some meaning-full insights to Data for Further Analysis"
   ]
  },
  {
   "cell_type": "code",
   "execution_count": null,
   "id": "8c895e24",
   "metadata": {},
   "outputs": [],
   "source": []
  }
 ],
 "metadata": {
  "kernelspec": {
   "display_name": "python 3.9(tesorflow)",
   "language": "python",
   "name": "tensorflow"
  },
  "language_info": {
   "codemirror_mode": {
    "name": "ipython",
    "version": 3
   },
   "file_extension": ".py",
   "mimetype": "text/x-python",
   "name": "python",
   "nbconvert_exporter": "python",
   "pygments_lexer": "ipython3",
   "version": "3.9.18"
  }
 },
 "nbformat": 4,
 "nbformat_minor": 5
}
